{
 "cells": [
  {
   "cell_type": "code",
   "execution_count": 23,
   "metadata": {},
   "outputs": [
    {
     "data": {
      "text/plain": [
       "array([ 78.63207333,  79.8430612 ,  81.05902414,  82.27715812,\n",
       "        83.49434622,  84.70715005,  85.91180563,  87.10422416,\n",
       "        88.2799991 ,  89.43442005,  90.56249463,  91.65897882,\n",
       "        92.71841636,  93.73518751,  94.7035671 ,  95.61779138,\n",
       "        96.47213286,  97.26098188,  97.97893309,  98.62087485,\n",
       "        99.18207893,  99.6582879 , 100.0457973 , 100.34152982,\n",
       "       100.54309869, 100.64885798, 100.65793789, 100.57026354,\n",
       "       100.38655661, 100.1083197 ,  99.73780409,  99.27796207,\n",
       "        98.73238587,  98.10523529,  97.40115683,  96.62519704,\n",
       "        95.78271305,  94.87928292,  93.92061844,  92.91248248,\n",
       "        91.8606128 ,  90.7706536 ,  89.64809577,  88.49822643,\n",
       "        87.32608772,  86.13644481,  84.93376251,  83.72218992,\n",
       "        82.50555218,  81.28734853,  80.07075565,  78.8586354 ,\n",
       "        77.65354615,  76.45775663,  75.27326194,  74.10180074,\n",
       "        72.94487324,  71.80375953,  70.67953772,  69.57310181,\n",
       "        68.48517892,  67.41634564,  66.36704362,  65.33759409])"
      ]
     },
     "execution_count": 23,
     "metadata": {},
     "output_type": "execute_result"
    }
   ],
   "source": [
    "import numpy as np\n",
    "\n",
    "xx = np.linspace(-0.80,0.80,64)\n",
    "yy = xx.copy()\n",
    "\n",
    "X, Y = np.meshgrid(xx, yy)\n",
    "\n",
    "\n",
    "V=(9*10**9)*(30*10**(-9))*np.log((((X+0.3)**2+Y**2)**0.5+X+0.3)/((X**2+Y**2)**0.5+X))\n",
    "\n",
    "V[0]\n",
    "\n"
   ]
  },
  {
   "cell_type": "code",
   "execution_count": 26,
   "metadata": {},
   "outputs": [
    {
     "data": {
      "text/plain": [
       "4096"
      ]
     },
     "execution_count": 26,
     "metadata": {},
     "output_type": "execute_result"
    }
   ],
   "source": [
    "posx=[]\n",
    "posy=[]\n",
    "valor_potecial =[]\n",
    "for i in range(len(X)):\n",
    "    for j in range(len(X[i])):\n",
    "        posx.append(X[i][j])\n",
    "        posy.append(Y[i][j])\n",
    "        valor_potecial.append(V[i][j])\n",
    "\n",
    "len(valor_potecial)    \n"
   ]
  },
  {
   "cell_type": "code",
   "execution_count": 27,
   "metadata": {},
   "outputs": [],
   "source": [
    "import pandas as pd\n",
    "datos={\n",
    "    'Coordenadas en X': posx,\n",
    "    'Coordenadas en Y': posy,\n",
    "    'Valor del potencial electrico': valor_potecial\n",
    "}\n",
    "df = pd.DataFrame(datos)\n"
   ]
  },
  {
   "cell_type": "code",
   "execution_count": 28,
   "metadata": {},
   "outputs": [
    {
     "data": {
      "text/html": [
       "<div>\n",
       "<style scoped>\n",
       "    .dataframe tbody tr th:only-of-type {\n",
       "        vertical-align: middle;\n",
       "    }\n",
       "\n",
       "    .dataframe tbody tr th {\n",
       "        vertical-align: top;\n",
       "    }\n",
       "\n",
       "    .dataframe thead th {\n",
       "        text-align: right;\n",
       "    }\n",
       "</style>\n",
       "<table border=\"1\" class=\"dataframe\">\n",
       "  <thead>\n",
       "    <tr style=\"text-align: right;\">\n",
       "      <th></th>\n",
       "      <th>Coordenadas en X</th>\n",
       "      <th>Coordenadas en Y</th>\n",
       "      <th>Valor del potencial electrico</th>\n",
       "    </tr>\n",
       "  </thead>\n",
       "  <tbody>\n",
       "    <tr>\n",
       "      <th>0</th>\n",
       "      <td>-0.800000</td>\n",
       "      <td>-0.8</td>\n",
       "      <td>78.632073</td>\n",
       "    </tr>\n",
       "    <tr>\n",
       "      <th>1</th>\n",
       "      <td>-0.774603</td>\n",
       "      <td>-0.8</td>\n",
       "      <td>79.843061</td>\n",
       "    </tr>\n",
       "    <tr>\n",
       "      <th>2</th>\n",
       "      <td>-0.749206</td>\n",
       "      <td>-0.8</td>\n",
       "      <td>81.059024</td>\n",
       "    </tr>\n",
       "    <tr>\n",
       "      <th>3</th>\n",
       "      <td>-0.723810</td>\n",
       "      <td>-0.8</td>\n",
       "      <td>82.277158</td>\n",
       "    </tr>\n",
       "    <tr>\n",
       "      <th>4</th>\n",
       "      <td>-0.698413</td>\n",
       "      <td>-0.8</td>\n",
       "      <td>83.494346</td>\n",
       "    </tr>\n",
       "    <tr>\n",
       "      <th>...</th>\n",
       "      <td>...</td>\n",
       "      <td>...</td>\n",
       "      <td>...</td>\n",
       "    </tr>\n",
       "    <tr>\n",
       "      <th>4091</th>\n",
       "      <td>0.698413</td>\n",
       "      <td>0.8</td>\n",
       "      <td>69.573102</td>\n",
       "    </tr>\n",
       "    <tr>\n",
       "      <th>4092</th>\n",
       "      <td>0.723810</td>\n",
       "      <td>0.8</td>\n",
       "      <td>68.485179</td>\n",
       "    </tr>\n",
       "    <tr>\n",
       "      <th>4093</th>\n",
       "      <td>0.749206</td>\n",
       "      <td>0.8</td>\n",
       "      <td>67.416346</td>\n",
       "    </tr>\n",
       "    <tr>\n",
       "      <th>4094</th>\n",
       "      <td>0.774603</td>\n",
       "      <td>0.8</td>\n",
       "      <td>66.367044</td>\n",
       "    </tr>\n",
       "    <tr>\n",
       "      <th>4095</th>\n",
       "      <td>0.800000</td>\n",
       "      <td>0.8</td>\n",
       "      <td>65.337594</td>\n",
       "    </tr>\n",
       "  </tbody>\n",
       "</table>\n",
       "<p>4096 rows × 3 columns</p>\n",
       "</div>"
      ],
      "text/plain": [
       "      Coordenadas en X  Coordenadas en Y  Valor del potencial electrico\n",
       "0            -0.800000              -0.8                      78.632073\n",
       "1            -0.774603              -0.8                      79.843061\n",
       "2            -0.749206              -0.8                      81.059024\n",
       "3            -0.723810              -0.8                      82.277158\n",
       "4            -0.698413              -0.8                      83.494346\n",
       "...                ...               ...                            ...\n",
       "4091          0.698413               0.8                      69.573102\n",
       "4092          0.723810               0.8                      68.485179\n",
       "4093          0.749206               0.8                      67.416346\n",
       "4094          0.774603               0.8                      66.367044\n",
       "4095          0.800000               0.8                      65.337594\n",
       "\n",
       "[4096 rows x 3 columns]"
      ]
     },
     "execution_count": 28,
     "metadata": {},
     "output_type": "execute_result"
    }
   ],
   "source": [
    "df"
   ]
  },
  {
   "cell_type": "code",
   "execution_count": 35,
   "metadata": {},
   "outputs": [],
   "source": [
    "df.to_excel('Punto1_taller.xlsx')"
   ]
  },
  {
   "cell_type": "code",
   "execution_count": 39,
   "metadata": {},
   "outputs": [
    {
     "name": "stderr",
     "output_type": "stream",
     "text": [
      "<ipython-input-39-4bb2be2e0386>:4: RuntimeWarning: divide by zero encountered in true_divide\n",
      "  Pv=((9*10**9)*(30*10**(-9))*np.log((np.sqrt((X+0.3)**2+(Y-0.05)**2)+X+0.3)/(np.sqrt(X**2+(Y-0.05)**2)+X)))+((9*10**9)*(-30*10**(-9))*np.log((np.sqrt((X+0.3)**2+(0.25-Y)**2)+X+0.3)/(np.sqrt(X**2+(0.25-Y)**2)+X)))\n",
      "<ipython-input-39-4bb2be2e0386>:4: RuntimeWarning: invalid value encountered in true_divide\n",
      "  Pv=((9*10**9)*(30*10**(-9))*np.log((np.sqrt((X+0.3)**2+(Y-0.05)**2)+X+0.3)/(np.sqrt(X**2+(Y-0.05)**2)+X)))+((9*10**9)*(-30*10**(-9))*np.log((np.sqrt((X+0.3)**2+(0.25-Y)**2)+X+0.3)/(np.sqrt(X**2+(0.25-Y)**2)+X)))\n"
     ]
    },
    {
     "data": {
      "text/plain": [
       "50"
      ]
     },
     "execution_count": 39,
     "metadata": {},
     "output_type": "execute_result"
    }
   ],
   "source": [
    "xx = np.linspace(-0.35,0.05)\n",
    "yy = np.linspace(-0.35,0.35)\n",
    "X,Y= np.meshgrid(xx, yy)\n",
    "Pv=((9*10**9)*(30*10**(-9))*np.log((np.sqrt((X+0.3)**2+(Y-0.05)**2)+X+0.3)/(np.sqrt(X**2+(Y-0.05)**2)+X)))+((9*10**9)*(-30*10**(-9))*np.log((np.sqrt((X+0.3)**2+(0.25-Y)**2)+X+0.3)/(np.sqrt(X**2+(0.25-Y)**2)+X))) \n"
   ]
  },
  {
   "cell_type": "code",
   "execution_count": 40,
   "metadata": {},
   "outputs": [],
   "source": [
    "Posx =[]\n",
    "Posy =[]\n",
    "V_potencial=[]\n",
    "\n",
    "for i in range(len(X)):\n",
    "    for j in range(len(X[i])):\n",
    "        Posx.append(X[i][j])\n",
    "        Posy.append(Y[i][j])\n",
    "        V_potencial.append(Pv[i][j])"
   ]
  },
  {
   "cell_type": "code",
   "execution_count": 41,
   "metadata": {},
   "outputs": [],
   "source": [
    "datos2= {\n",
    "    'Coordenadas en X': Posx,\n",
    "    'Coordenadas en Y': Posy,\n",
    "    'Valor del potencial electrico': V_potencial\n",
    "}\n",
    "\n",
    "df2 = pd.DataFrame(datos2)"
   ]
  },
  {
   "cell_type": "code",
   "execution_count": 42,
   "metadata": {},
   "outputs": [
    {
     "data": {
      "text/html": [
       "<div>\n",
       "<style scoped>\n",
       "    .dataframe tbody tr th:only-of-type {\n",
       "        vertical-align: middle;\n",
       "    }\n",
       "\n",
       "    .dataframe tbody tr th {\n",
       "        vertical-align: top;\n",
       "    }\n",
       "\n",
       "    .dataframe thead th {\n",
       "        text-align: right;\n",
       "    }\n",
       "</style>\n",
       "<table border=\"1\" class=\"dataframe\">\n",
       "  <thead>\n",
       "    <tr style=\"text-align: right;\">\n",
       "      <th></th>\n",
       "      <th>Coordenadas en X</th>\n",
       "      <th>Coordenadas en Y</th>\n",
       "      <th>Valor del potencial electrico</th>\n",
       "    </tr>\n",
       "  </thead>\n",
       "  <tbody>\n",
       "    <tr>\n",
       "      <th>0</th>\n",
       "      <td>-0.350000</td>\n",
       "      <td>-0.35</td>\n",
       "      <td>52.447027</td>\n",
       "    </tr>\n",
       "    <tr>\n",
       "      <th>1</th>\n",
       "      <td>-0.341837</td>\n",
       "      <td>-0.35</td>\n",
       "      <td>53.273031</td>\n",
       "    </tr>\n",
       "    <tr>\n",
       "      <th>2</th>\n",
       "      <td>-0.333673</td>\n",
       "      <td>-0.35</td>\n",
       "      <td>54.083600</td>\n",
       "    </tr>\n",
       "    <tr>\n",
       "      <th>3</th>\n",
       "      <td>-0.325510</td>\n",
       "      <td>-0.35</td>\n",
       "      <td>54.876820</td>\n",
       "    </tr>\n",
       "    <tr>\n",
       "      <th>4</th>\n",
       "      <td>-0.317347</td>\n",
       "      <td>-0.35</td>\n",
       "      <td>55.650761</td>\n",
       "    </tr>\n",
       "    <tr>\n",
       "      <th>...</th>\n",
       "      <td>...</td>\n",
       "      <td>...</td>\n",
       "      <td>...</td>\n",
       "    </tr>\n",
       "    <tr>\n",
       "      <th>2495</th>\n",
       "      <td>0.017347</td>\n",
       "      <td>0.35</td>\n",
       "      <td>-225.564657</td>\n",
       "    </tr>\n",
       "    <tr>\n",
       "      <th>2496</th>\n",
       "      <td>0.025510</td>\n",
       "      <td>0.35</td>\n",
       "      <td>-212.880980</td>\n",
       "    </tr>\n",
       "    <tr>\n",
       "      <th>2497</th>\n",
       "      <td>0.033673</td>\n",
       "      <td>0.35</td>\n",
       "      <td>-200.515475</td>\n",
       "    </tr>\n",
       "    <tr>\n",
       "      <th>2498</th>\n",
       "      <td>0.041837</td>\n",
       "      <td>0.35</td>\n",
       "      <td>-188.566137</td>\n",
       "    </tr>\n",
       "    <tr>\n",
       "      <th>2499</th>\n",
       "      <td>0.050000</td>\n",
       "      <td>0.35</td>\n",
       "      <td>-177.108040</td>\n",
       "    </tr>\n",
       "  </tbody>\n",
       "</table>\n",
       "<p>2500 rows × 3 columns</p>\n",
       "</div>"
      ],
      "text/plain": [
       "      Coordenadas en X  Coordenadas en Y  Valor del potencial electrico\n",
       "0            -0.350000             -0.35                      52.447027\n",
       "1            -0.341837             -0.35                      53.273031\n",
       "2            -0.333673             -0.35                      54.083600\n",
       "3            -0.325510             -0.35                      54.876820\n",
       "4            -0.317347             -0.35                      55.650761\n",
       "...                ...               ...                            ...\n",
       "2495          0.017347              0.35                    -225.564657\n",
       "2496          0.025510              0.35                    -212.880980\n",
       "2497          0.033673              0.35                    -200.515475\n",
       "2498          0.041837              0.35                    -188.566137\n",
       "2499          0.050000              0.35                    -177.108040\n",
       "\n",
       "[2500 rows x 3 columns]"
      ]
     },
     "execution_count": 42,
     "metadata": {},
     "output_type": "execute_result"
    }
   ],
   "source": [
    "df2"
   ]
  },
  {
   "cell_type": "code",
   "execution_count": null,
   "metadata": {},
   "outputs": [],
   "source": [
    "df2.to_excel('Punto2_taller.xlsx')"
   ]
  }
 ],
 "metadata": {
  "interpreter": {
   "hash": "3d6e0910915bf6b4a55ce27f59e1575447c8575482fc1e8b71ac8007d6c9907f"
  },
  "kernelspec": {
   "display_name": "Python 3.8.3 64-bit",
   "name": "python3"
  },
  "language_info": {
   "codemirror_mode": {
    "name": "ipython",
    "version": 3
   },
   "file_extension": ".py",
   "mimetype": "text/x-python",
   "name": "python",
   "nbconvert_exporter": "python",
   "pygments_lexer": "ipython3",
   "version": "3.8.3"
  },
  "orig_nbformat": 4
 },
 "nbformat": 4,
 "nbformat_minor": 2
}
